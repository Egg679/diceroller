{
 "cells": [
  {
   "cell_type": "code",
   "execution_count": 1,
   "id": "47537d21-b6cf-4ac9-ac48-261e6972a8ce",
   "metadata": {},
   "outputs": [],
   "source": [
    "from os import getenv\n",
    "from pathlib import Path\n",
    "\n",
    "input_folder = Path(getenv(\n",
    "    'CROSSCOMPUTE_INPUT_FOLDER', 'batches/standard/input'))\n",
    "output_folder = Path(getenv(\n",
    "    'CROSSCOMPUTE_OUTPUT_FOLDER', 'batches/standard/output'))"
   ]
  },
  {
   "cell_type": "code",
   "execution_count": 2,
   "id": "17077b7a-1243-4838-91d4-07ffb2e5f392",
   "metadata": {},
   "outputs": [],
   "source": [
    "with (input_folder / 'names.txt').open('rt') as f:\n",
    "    names = f.read().splitlines()\n",
    "    # names = f.readlines()"
   ]
  },
  {
   "cell_type": "code",
   "execution_count": null,
   "id": "38e1560b-0121-42c0-af9d-f1e994938caf",
   "metadata": {},
   "outputs": [],
   "source": []
  },
  {
   "cell_type": "code",
   "execution_count": 3,
   "id": "8a3b7330-d6d0-48e8-ac22-1576990411f9",
   "metadata": {},
   "outputs": [],
   "source": [
    "from random import shuffle"
   ]
  },
  {
   "cell_type": "code",
   "execution_count": 4,
   "id": "49a69ba3-59b8-4c7f-b586-6d2a34a20caf",
   "metadata": {},
   "outputs": [],
   "source": [
    "# names = ['Terry', 'Gloria', 'Roy', 'Cat', 'Nina']"
   ]
  },
  {
   "cell_type": "code",
   "execution_count": 5,
   "id": "0f9fc584-5b81-49c7-9102-67b5cd0cdd69",
   "metadata": {},
   "outputs": [
    {
     "data": {
      "text/plain": [
       "['Terry', 'Dixie', 'Alex', 'Nina', 'Gloria']"
      ]
     },
     "execution_count": 5,
     "metadata": {},
     "output_type": "execute_result"
    }
   ],
   "source": [
    "names"
   ]
  },
  {
   "cell_type": "code",
   "execution_count": 6,
   "id": "e5fbe8b1-17ec-4c8b-bf0b-772d3631cb2d",
   "metadata": {},
   "outputs": [],
   "source": [
    "shuffle(names)"
   ]
  },
  {
   "cell_type": "code",
   "execution_count": 7,
   "id": "57f11f1b-99d2-4302-a8f4-7ce22958ce7a",
   "metadata": {},
   "outputs": [
    {
     "name": "stdout",
     "output_type": "stream",
     "text": [
      "Alex\n",
      "Nina\n",
      "Gloria\n",
      "Dixie\n",
      "Terry\n"
     ]
    }
   ],
   "source": [
    "print('\\n'.join(names))"
   ]
  },
  {
   "cell_type": "code",
   "execution_count": 8,
   "id": "aee5efd5-b6d8-4941-8ab1-d2f456a01942",
   "metadata": {},
   "outputs": [],
   "source": [
    "with (output_folder / 'randomized-names.txt').open('wt') as f:\n",
    "    f.write('\\n'.join(names))\n"
   ]
  }
 ],
 "metadata": {
  "kernelspec": {
   "display_name": "Python 3 (ipykernel)",
   "language": "python",
   "name": "python3"
  },
  "language_info": {
   "codemirror_mode": {
    "name": "ipython",
    "version": 3
   },
   "file_extension": ".py",
   "mimetype": "text/x-python",
   "name": "python",
   "nbconvert_exporter": "python",
   "pygments_lexer": "ipython3",
   "version": "3.10.8"
  }
 },
 "nbformat": 4,
 "nbformat_minor": 5
}
