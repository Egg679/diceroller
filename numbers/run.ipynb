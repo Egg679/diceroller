{
 "cells": [
  {
   "cell_type": "code",
   "execution_count": null,
   "id": "73a1a92b-8feb-4504-85b4-30c09a7707fa",
   "metadata": {
    "tags": []
   },
   "outputs": [],
   "source": [
    "from os import getenv\n",
    "from pathlib import Path\n",
    "\n",
    "input_folder = Path(getenv('CROSSCOMPUTE_INPUT_FOLDER', 'batches/standard/input'))\n",
    "output_folder = Path(getenv('CROSSCOMPUTE_OUTPUT_FOLDER', 'batches/standard/output'))"
   ]
  },
  {
   "cell_type": "code",
   "execution_count": null,
   "id": "150cc4d1-796e-4886-8021-8c02e6ae3074",
   "metadata": {},
   "outputs": [],
   "source": [
    "import json\n",
    "with (input_folder / 'variables.dictionary').open('rt') as f:\n",
    "    d = json.load(f)\n",
    "\n",
    "min_value = d['minimum_value']\n",
    "max_value = d['maximum_value']"
   ]
  },
  {
   "cell_type": "code",
   "execution_count": null,
   "id": "135c7432-9912-486a-805e-b4b984d678c4",
   "metadata": {
    "tags": []
   },
   "outputs": [],
   "source": [
    "from random import randint"
   ]
  },
  {
   "cell_type": "code",
   "execution_count": null,
   "id": "c258d31c-b795-4592-a720-5e666b6af8b2",
   "metadata": {},
   "outputs": [],
   "source": [
    "rolled_number = randint(min_value, max_value)\n",
    "\n",
    "with (output_folder / 'variables.dictionary').open('wt') as f:\n",
    "    json.dump({'rolled_number': rolled_number}, f)\n"
   ]
  }
 ],
 "metadata": {
  "kernelspec": {
   "display_name": "Python 3 (ipykernel)",
   "language": "python",
   "name": "python3"
  },
  "language_info": {
   "codemirror_mode": {
    "name": "ipython",
    "version": 3
   },
   "file_extension": ".py",
   "mimetype": "text/x-python",
   "name": "python",
   "nbconvert_exporter": "python",
   "pygments_lexer": "ipython3",
   "version": "3.10.8"
  }
 },
 "nbformat": 4,
 "nbformat_minor": 5
}
